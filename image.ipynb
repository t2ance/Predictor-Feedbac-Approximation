{
 "cells": [
  {
   "cell_type": "code",
   "execution_count": null,
   "metadata": {
    "collapsed": true
   },
   "outputs": [],
   "source": [
    "!ls /data/feedback/offline/s5/s5/result/FNO/no/"
   ]
  },
  {
   "cell_type": "code",
   "execution_count": null,
   "outputs": [],
   "source": [
    "# comparison_full.png  difference_full.png  metric.txt\n",
    "# comparison_zoom.png  difference_zoom.png  u.png\n",
    "from IPython.display import Image\n",
    "Image('/data/feedback/offline/s5/s5/result/FNO/no//comparison_full.png')"
   ],
   "metadata": {
    "collapsed": false
   }
  },
  {
   "cell_type": "code",
   "execution_count": null,
   "outputs": [],
   "source": [
    "Image('/data/feedback/offline/s5/s5/result/FNO/no//comparison_zoom.png')"
   ],
   "metadata": {
    "collapsed": false
   }
  },
  {
   "cell_type": "code",
   "execution_count": null,
   "outputs": [],
   "source": [
    "!ls /data/feedback/offline/s1/s1/checkpoint"
   ],
   "metadata": {
    "collapsed": false
   }
  },
  {
   "cell_type": "code",
   "execution_count": null,
   "outputs": [],
   "source": [
    "!cp /data/feedback/offline/s5/s5/checkpoint/FNO.pth ./FNO.pth"
   ],
   "metadata": {
    "collapsed": false
   }
  },
  {
   "cell_type": "code",
   "execution_count": null,
   "outputs": [],
   "source": [
    "import wandb\n",
    "from config import get_config\n",
    "\n",
    "wandb.login(key='ed146cfe3ec2583a2207a02edcc613f41c4e2fb1')\n",
    "run = wandb.init(\n",
    "    project=\"no\",\n",
    "    name=f'test'\n",
    ")\n",
    "dataset_config_, model_config_, train_config_ = get_config(system_='s9', model_name='FNO')\n",
    "training_dataset, validation_dataset = dataset_config_.load_dataset(run, resize=False)"
   ],
   "metadata": {
    "collapsed": false
   }
  }
 ],
 "metadata": {
  "kernelspec": {
   "display_name": "Python 3",
   "language": "python",
   "name": "python3"
  },
  "language_info": {
   "codemirror_mode": {
    "name": "ipython",
    "version": 2
   },
   "file_extension": ".py",
   "mimetype": "text/x-python",
   "name": "python",
   "nbconvert_exporter": "python",
   "pygments_lexer": "ipython2",
   "version": "2.7.6"
  }
 },
 "nbformat": 4,
 "nbformat_minor": 0
}
