{
 "cells": [
  {
   "cell_type": "code",
   "execution_count": null,
   "metadata": {
    "collapsed": true
   },
   "outputs": [],
   "source": [
    "!ls /data/feedback/5/s5/result/FNO/no/"
   ]
  },
  {
   "cell_type": "code",
   "execution_count": null,
   "outputs": [],
   "source": [
    "!ls /data/feedback/5/s5/result/FNO/no/'[-0.5 -0.5  0.   0.   0.   0.   0.   0.   0.   0.   0.   0.   0.   0. ]'"
   ],
   "metadata": {
    "collapsed": false
   }
  },
  {
   "cell_type": "code",
   "execution_count": null,
   "outputs": [],
   "source": [
    "# comparison_full.png  difference_full.png  metric.txt\n",
    "# comparison_zoom.png  difference_zoom.png  u.png\n",
    "from IPython.display import Image\n",
    "Image('/data/feedback/5/s5/result/FNO/no/[-0.5 -0.5  0.   0.   0.   0.   0.   0.   0.   0.   0.   0.   0.   0. ]/comparison_full.png')"
   ],
   "metadata": {
    "collapsed": false
   }
  }
 ],
 "metadata": {
  "kernelspec": {
   "display_name": "Python 3",
   "language": "python",
   "name": "python3"
  },
  "language_info": {
   "codemirror_mode": {
    "name": "ipython",
    "version": 2
   },
   "file_extension": ".py",
   "mimetype": "text/x-python",
   "name": "python",
   "nbconvert_exporter": "python",
   "pygments_lexer": "ipython2",
   "version": "2.7.6"
  }
 },
 "nbformat": 4,
 "nbformat_minor": 0
}
